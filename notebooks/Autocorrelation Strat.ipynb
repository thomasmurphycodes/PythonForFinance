{
 "cells": [
  {
   "cell_type": "code",
   "execution_count": 8,
   "metadata": {},
   "outputs": [],
   "source": [
    "import pandas as pd\n",
    "import numpy as np\n",
    "import os\n",
    "from pylab import mpl, plt\n",
    "pd.options.display.float_format = '{:,.2f}'.format\n",
    "MKT_BOOK = {}"
   ]
  },
  {
   "cell_type": "code",
   "execution_count": 4,
   "metadata": {},
   "outputs": [],
   "source": [
    "# Toy universe of some S&P 500 securities\n",
    "SYM_LIST = ['GOOGL', 'FB', 'TWTR', 'VRSN', 'AKAM', 'TRIP', 'MSFT', 'ADP', 'CTXS', 'IRM', 'FFIV',\n",
    "           'JPM', 'BAC', 'WFC', 'C', 'PNC', 'CMA', 'PYPL', 'MA', 'V', 'AXP', 'COF', 'DFS', 'SYF',\n",
    "           'EFX', 'WU', 'NAVI', 'ORCL', 'ADBE', 'CRM', 'INTU', 'ANSS', 'CDNS',\n",
    "           'WMT', 'COST', 'TGT', 'DG', 'DLTR',\n",
    "           'DIS', 'CMCSA', 'FOXA']"
   ]
  },
  {
   "cell_type": "code",
   "execution_count": 15,
   "metadata": {},
   "outputs": [
    {
     "name": "stdout",
     "output_type": "stream",
     "text": [
      "Retrieving GOOGL\n",
      "Retrieving FB\n",
      "Retrieving TWTR\n",
      "Retrieving VRSN\n",
      "Retrieving AKAM\n",
      "Retrieving TRIP\n",
      "Retrieving MSFT\n",
      "Retrieving ADP\n",
      "Retrieving CTXS\n",
      "Retrieving IRM\n",
      "Retrieving FFIV\n",
      "Retrieving JPM\n",
      "Retrieving BAC\n",
      "Retrieving WFC\n",
      "Retrieving C\n",
      "Retrieving PNC\n",
      "Retrieving CMA\n",
      "Retrieving PYPL\n",
      "Retrieving MA\n",
      "Retrieving V\n",
      "Retrieving AXP\n",
      "Retrieving COF\n",
      "Retrieving DFS\n",
      "Retrieving SYF\n",
      "Retrieving EFX\n",
      "Retrieving WU\n",
      "Retrieving NAVI\n",
      "Retrieving ORCL\n",
      "Retrieving ADBE\n",
      "Retrieving CRM\n",
      "Retrieving INTU\n",
      "Retrieving ANSS\n",
      "Retrieving CDNS\n",
      "Retrieving WMT\n",
      "Retrieving COST\n",
      "Retrieving TGT\n",
      "Retrieving DG\n",
      "Retrieving DLTR\n",
      "Retrieving DIS\n",
      "Retrieving CMCSA\n",
      "Retrieving FOXA\n"
     ]
    }
   ],
   "source": []
  },
  {
   "cell_type": "markdown",
   "metadata": {},
   "source": [
    "# Strat\n",
    "* Autocorrelation **should** be **monotonically decreasing** - if it isn't, there's an opportunity.\n",
    "* Even more strongly - if autocorrelation flips **negative** outside of the confidence cone, there's an opportunity"
   ]
  },
  {
   "cell_type": "code",
   "execution_count": 222,
   "metadata": {},
   "outputs": [
    {
     "data": {
      "image/png": "[encoded data removed]",
      "text/plain": [
       "<Figure size 432x288 with 1 Axes>"
      ]
     },
     "execution_count": 222,
     "metadata": {},
     "output_type": "execute_result"
    },
    {
     "data": {
      "image/png": "[encoded data removed]",
      "text/plain": [
       "<Figure size 432x288 with 1 Axes>"
      ]
     },
     "metadata": {
      "needs_background": "light"
     },
     "output_type": "display_data"
    }
   ],
   "source": [
    "# 'EFX', 'WU', 'NAVI', 'ORCL', 'ADBE', 'CRM', 'INTU', 'ANSS', 'CDNS',\n",
    "from statsmodels.graphics.tsaplots import plot_acf\n",
    "from statsmodels.tsa.stattools import acf\n",
    "data = MKT_BOOK['GOOGL']['volume']\n",
    "plot_acf(data, lags=12)"
   ]
  },
  {
   "cell_type": "code",
   "execution_count": 229,
   "metadata": {},
   "outputs": [],
   "source": [
    "def autocorr(x, lags, alpha=.05):\n",
    "    result, confint = acf(x, nlags=lags, alpha=alpha)\n",
    "    print(result)\n",
    "    print('Confidence', confint)\n",
    "    return result"
   ]
  },
  {
   "cell_type": "code",
   "execution_count": 230,
   "metadata": {},
   "outputs": [
    {
     "name": "stdout",
     "output_type": "stream",
     "text": [
      "[ 1.          0.36719424  0.11759589  0.10109346  0.07291282  0.03682142\n",
      "  0.07331961  0.00629051 -0.00539814 -0.03614152 -0.09337427 -0.06195114\n",
      " -0.0298165 ]\n",
      "Confidence [[ 1.          1.        ]\n",
      " [ 0.20608619  0.52830229]\n",
      " [-0.06393959  0.29913136]\n",
      " [-0.08240859  0.28459551]\n",
      " [-0.11202916  0.25785479]\n",
      " [-0.14886517  0.22250801]\n",
      " [-0.11255641  0.25919562]\n",
      " [-0.18033467  0.19291569]\n",
      " [-0.19202882  0.18123254]\n",
      " [-0.22277626  0.15049321]\n",
      " [-0.28019058  0.09344203]\n",
      " [-0.24997491  0.12607262]\n",
      " [-0.21836933  0.15873634]]\n"
     ]
    },
    {
     "data": {
      "text/plain": [
       "array([ 1.        ,  0.36719424,  0.11759589,  0.10109346,  0.07291282,\n",
       "        0.03682142,  0.07331961,  0.00629051, -0.00539814, -0.03614152,\n",
       "       -0.09337427, -0.06195114, -0.0298165 ])"
      ]
     },
     "execution_count": 230,
     "metadata": {},
     "output_type": "execute_result"
    }
   ],
   "source": [
    "autocorr, confit = autocorr(MKT_BOOK['GOOGL']['volume'], 12)"
   ]
  },
  {
   "cell_type": "code",
   "execution_count": null,
   "metadata": {},
   "outputs": [],
   "source": [
    "# Unpack values against confidence intervals and flag significant ones\n",
    "for result in confint:\n",
    "    upper, lower = confint"
   ]
  }
 ],
 "metadata": {
  "kernelspec": {
   "display_name": "Python 3",
   "language": "python",
   "name": "python3"
  },
  "language_info": {
   "codemirror_mode": {
    "name": "ipython",
    "version": 3
   },
   "file_extension": ".py",
   "mimetype": "text/x-python",
   "name": "python",
   "nbconvert_exporter": "python",
   "pygments_lexer": "ipython3",
   "version": "3.7.3"
  }
 },
 "nbformat": 4,
 "nbformat_minor": 2
}
