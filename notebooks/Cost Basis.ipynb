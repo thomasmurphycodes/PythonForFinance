{
 "cells": [
  {
   "cell_type": "markdown",
   "metadata": {},
   "source": [
    "# Introduction\n",
    "\n",
    "### Two Ways of Asking a Question\n",
    "\n",
    "#### 1. Position P&L\n",
    "* Q: Give a set of portfolio positions in one security that were purchased at different prices and quantities at different times, how do you calculate the P&L of the position?\n",
    "* A: With a cost basis, which is the weighted average of the quantity purchased at a given price.\n",
    "\n",
    "#### 2. Daily P&L\n",
    "* Q: What's the P&L for one day? \n",
    "* A: (Price at Close - Price at Open) (Quantity)\n",
    "* **You accidentally did this one in the FORT LP Interview**"
   ]
  },
  {
   "cell_type": "code",
   "execution_count": null,
   "metadata": {},
   "outputs": [],
   "source": []
  }
 ],
 "metadata": {
  "kernelspec": {
   "display_name": "Python 3",
   "language": "python",
   "name": "python3"
  },
  "language_info": {
   "codemirror_mode": {
    "name": "ipython",
    "version": 3
   },
   "file_extension": ".py",
   "mimetype": "text/x-python",
   "name": "python",
   "nbconvert_exporter": "python",
   "pygments_lexer": "ipython3",
   "version": "3.7.3"
  }
 },
 "nbformat": 4,
 "nbformat_minor": 2
}
