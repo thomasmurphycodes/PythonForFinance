{
 "cells": [
  {
   "cell_type": "code",
   "execution_count": 8,
   "metadata": {},
   "outputs": [],
   "source": [
    "import pandas as pd\n",
    "import numpy as np\n",
    "import os\n",
    "from pylab import mpl, plt\n",
    "pd.options.display.float_format = '{:,.2f}'.format\n",
    "MKT_BOOK = {}"
   ]
  },
  {
   "cell_type": "code",
   "execution_count": 4,
   "metadata": {},
   "outputs": [],
   "source": [
    "# Toy universe of some S&P 500 securities\n",
    "SYM_LIST = ['GOOGL', 'FB', 'TWTR', 'VRSN', 'AKAM', 'TRIP', 'MSFT', 'ADP', 'CTXS', 'IRM', 'FFIV',\n",
    "           'JPM', 'BAC', 'WFC', 'C', 'PNC', 'CMA', 'PYPL', 'MA', 'V', 'AXP', 'COF', 'DFS', 'SYF',\n",
    "           'EFX', 'WU', 'NAVI', 'ORCL', 'ADBE', 'CRM', 'INTU', 'ANSS', 'CDNS',\n",
    "           'WMT', 'COST', 'TGT', 'DG', 'DLTR',\n",
    "           'DIS', 'CMCSA', 'FOXA']"
   ]
  },
  {
   "cell_type": "code",
   "execution_count": 15,
   "metadata": {},
   "outputs": [
    {
     "name": "stdout",
     "output_type": "stream",
     "text": [
      "Retrieving GOOGL\n",
      "Retrieving FB\n",
      "Retrieving TWTR\n",
      "Retrieving VRSN\n",
      "Retrieving AKAM\n",
      "Retrieving TRIP\n",
      "Retrieving MSFT\n",
      "Retrieving ADP\n",
      "Retrieving CTXS\n",
      "Retrieving IRM\n",
      "Retrieving FFIV\n",
      "Retrieving JPM\n",
      "Retrieving BAC\n",
      "Retrieving WFC\n",
      "Retrieving C\n",
      "Retrieving PNC\n",
      "Retrieving CMA\n",
      "Retrieving PYPL\n",
      "Retrieving MA\n",
      "Retrieving V\n",
      "Retrieving AXP\n",
      "Retrieving COF\n",
      "Retrieving DFS\n",
      "Retrieving SYF\n",
      "Retrieving EFX\n",
      "Retrieving WU\n",
      "Retrieving NAVI\n",
      "Retrieving ORCL\n",
      "Retrieving ADBE\n",
      "Retrieving CRM\n",
      "Retrieving INTU\n",
      "Retrieving ANSS\n",
      "Retrieving CDNS\n",
      "Retrieving WMT\n",
      "Retrieving COST\n",
      "Retrieving TGT\n",
      "Retrieving DG\n",
      "Retrieving DLTR\n",
      "Retrieving DIS\n",
      "Retrieving CMCSA\n",
      "Retrieving FOXA\n"
     ]
    }
   ],
   "source": [
    "# Finance data time\n",
    "from datetime import datetime\n",
    "from iexfinance.stocks import get_historical_data\n",
    "\n",
    "# Get open and close prices daily for all of 2019 for securities in universe (252 rows per security)\n",
    "for sym in SYM_LIST:\n",
    "    if sym not in MKT_BOOK:\n",
    "        start = datetime(2019, 6, 1)\n",
    "        end = datetime(2019, 12, 31)\n",
    "        print(\"Retrieving {}\".format(sym))\n",
    "        MKT_BOOK[sym] = pd.DataFrame(get_historical_data(sym, start, end)).transpose()\n",
    "    else:\n",
    "        print('{} already retrieved'.format(sym))"
   ]
  },
  {
   "cell_type": "markdown",
   "metadata": {},
   "source": [
    "# Strat\n",
    "* Autocorrelation **should** be **monotonically decreasing** - if it isn't, there's an opportunity.\n",
    "* Even more strongly - if autocorrelation flips **negative** outside of the confidence cone, there's an opportunity"
   ]
  },
  {
   "cell_type": "code",
   "execution_count": 183,
   "metadata": {},
   "outputs": [
    {
     "data": {
      "image/png": "[encoded data removed]",
      "text/plain": [
       "<Figure size 432x288 with 1 Axes>"
      ]
     },
     "execution_count": 183,
     "metadata": {},
     "output_type": "execute_result"
    },
    {
     "data": {
      "image/png": "[encoded data removed]",
      "text/plain": [
       "<Figure size 432x288 with 1 Axes>"
      ]
     },
     "metadata": {
      "needs_background": "light"
     },
     "output_type": "display_data"
    }
   ],
   "source": [
    "# 'EFX', 'WU', 'NAVI', 'ORCL', 'ADBE', 'CRM', 'INTU', 'ANSS', 'CDNS',\n",
    "from statsmodels.graphics.tsaplots import plot_acf\n",
    "data = MKT_BOOK['C']['volume']\n",
    "plot_acf(data, lags=30)"
   ]
  },
  {
   "cell_type": "code",
   "execution_count": null,
   "metadata": {},
   "outputs": [],
   "source": [
    "    "
   ]
  },
  {
   "cell_type": "code",
   "execution_count": null,
   "metadata": {},
   "outputs": [],
   "source": []
  }
 ],
 "metadata": {
  "kernelspec": {
   "display_name": "Python 3",
   "language": "python",
   "name": "python3"
  },
  "language_info": {
   "codemirror_mode": {
    "name": "ipython",
    "version": 3
   },
   "file_extension": ".py",
   "mimetype": "text/x-python",
   "name": "python",
   "nbconvert_exporter": "python",
   "pygments_lexer": "ipython3",
   "version": "3.7.3"
  }
 },
 "nbformat": 4,
 "nbformat_minor": 2
}
